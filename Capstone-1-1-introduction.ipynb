{
 "cells": [
  {
   "cell_type": "markdown",
   "metadata": {
    "collapsed": true
   },
   "source": [
    "# Capstone Project - The Battle of the Neighborhoods (Week 1)\n",
    "### Applied Data Science Capstone by IBM/Coursera"
   ]
  },
  {
   "cell_type": "markdown",
   "metadata": {},
   "source": [
    "\n",
    "\n",
    "## Introduction/Business Problem <a name=\"introduction\"></a>"
   ]
  },
  {
   "cell_type": "markdown",
   "metadata": {},
   "source": [
    "London is not only the commercial centre of the UK but also attract millions of visiting tourists every year. This cosmopolitan city has a very vibrant food scene, in that new restaurants are opening all the time but sadly at the same time many restaurants are closing down due to the fierce competition. \n",
    "\n",
    "Now, if someone is looking to open a Chinese restaurant in London, can we use data science to help to find out whether a site is good or bad for it? This is the **business problem** I set out to address. The **target audience / stakeholders** are those who plan to open a Chinese restaurant in London, whether as a start-up or a new branch of an existing restaurant, and their investors. In addition, the landlords of the commercial properties in London may also be potential target audience.\n",
    "\n",
    "One of the past examples of the Captstone project is about recommending where to open an Italian restaurant in Berlin, in which an assumption was that a good spot should be in “areas of Berlin that have low restaurant density, particularly those with low number of Italian restaurants”. This may be a sensible assumption, on the other hand, observation also tells us that more often restaurants are “clustered” together. For example, I once travelled to Bradford, a small city in northwest England, I was surprised to find 4 French restaurants in the same street of about 300 metres and they all looked quite busy. So the density along may not be enough to predict whether a location is good or bad for opening a Chinese restaurant, any other data/indications do we need in order to **make a good prediction**?\n"
   ]
  }
 ],
 "metadata": {
  "kernelspec": {
   "display_name": "Python 3",
   "language": "python",
   "name": "python3"
  },
  "language_info": {
   "codemirror_mode": {
    "name": "ipython",
    "version": 3
   },
   "file_extension": ".py",
   "mimetype": "text/x-python",
   "name": "python",
   "nbconvert_exporter": "python",
   "pygments_lexer": "ipython3",
   "version": "3.7.1"
  }
 },
 "nbformat": 4,
 "nbformat_minor": 1
}
